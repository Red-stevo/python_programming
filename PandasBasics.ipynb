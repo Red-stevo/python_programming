{
 "cells": [
  {
   "cell_type": "code",
   "execution_count": 3,
   "id": "6ede7c86-8a53-4a0d-bfd3-31fd2040cb5e",
   "metadata": {},
   "outputs": [
    {
     "name": "stdout",
     "output_type": "stream",
     "text": [
      "0       23\n",
      "1       43\n",
      "2      NaN\n",
      "3    steve\n",
      "4        a\n",
      "dtype: object\n"
     ]
    }
   ],
   "source": [
    "import pandas as pd\n",
    "import numpy as np\n",
    "\n",
    "# Panda series data structure.\n",
    "\n",
    "s = pd.Series([23, 43,np.nan, \"steve\", 'a'])\n",
    "\n",
    "print(s)"
   ]
  },
  {
   "cell_type": "code",
   "execution_count": 5,
   "id": "f5048eb4-44a0-4e2d-b958-a0878561c20c",
   "metadata": {},
   "outputs": [
    {
     "name": "stdout",
     "output_type": "stream",
     "text": [
      "0        23\n",
      "1        43\n",
      "2    np.nan\n",
      "3     steve\n",
      "4         a\n",
      "dtype: object\n"
     ]
    }
   ],
   "source": [
    "s2 = pd.Series([\"23\", \"43\",\"np.nan\", \"steve\", \"a\"])\n",
    "print(s2)"
   ]
  },
  {
   "cell_type": "code",
   "execution_count": 11,
   "id": "17f9ec0c-fd91-4238-a68b-533468d4a2ff",
   "metadata": {},
   "outputs": [
    {
     "name": "stdout",
     "output_type": "stream",
     "text": [
      "    Column1  Column2\n",
      "0         1       51\n",
      "1         4       54\n",
      "2         7       57\n",
      "3        10       60\n",
      "4        13       63\n",
      "5        16       66\n",
      "6        19       69\n",
      "7        22       72\n",
      "8        25       75\n",
      "9        28       78\n",
      "10       31       81\n",
      "11       34       84\n",
      "12       37       87\n",
      "13       40       90\n",
      "14       43       93\n",
      "15       46       96\n",
      "16       49       99\n"
     ]
    }
   ],
   "source": [
    "# panda second datastructure data frame.\n",
    "# Passed a dictionary to the dataframe function to create the df.\n",
    "\n",
    "df = pd.DataFrame({\"Column1\":np.arange(1,50, 3), \"Column2\":np.arange(51,100, 3)})\n",
    "\n",
    "print(df)"
   ]
  },
  {
   "cell_type": "code",
   "execution_count": 15,
   "id": "3bdaa908-28ef-488f-b057-3d69b24dfaa4",
   "metadata": {},
   "outputs": [
    {
     "name": "stdout",
     "output_type": "stream",
     "text": [
      "     StudentName StudentPassword                         StudentEmail\n",
      "0   Joseph Maina          37681!   joseph.maina22@students.dkut.ac.ke\n",
      "1  Stephen Muiru     Aa37333681!  Stephen.muiru22@students.dkut.ac.ke\n",
      "2  Stephen Muiru     AA37333681!                  Stepmuish@gmail.com\n",
      "3  Stephen Muiru     aa37333681!                Stevenmuish@gmail.com\n"
     ]
    },
    {
     "name": "stderr",
     "output_type": "stream",
     "text": [
      "/tmp/ipykernel_31452/2492848848.py:6: UserWarning: pandas only supports SQLAlchemy connectable (engine/connection) or database string URI or sqlite3 DBAPI2 connection. Other DBAPI2 objects are not tested. Please consider using SQLAlchemy.\n",
      "  df2 = pd.read_sql(\"SELECT * FROM StudentLogin\", conn)\n"
     ]
    }
   ],
   "source": [
    "# Reading data from the database.\n",
    "import mysql.connector as con\n",
    "\n",
    "conn = con.connect(user=\"steve\",password=\"sijui!\",host=\"127.0.0.1\",database=\"SpringJDBC\")\n",
    "\n",
    "df2 = pd.read_sql(\"SELECT * FROM StudentLogin\", conn)\n",
    "\n",
    "print(df2)\n"
   ]
  },
  {
   "cell_type": "code",
   "execution_count": null,
   "id": "bcbc6b44-8125-43a4-9fc4-a9142f44f5ab",
   "metadata": {},
   "outputs": [],
   "source": []
  }
 ],
 "metadata": {
  "kernelspec": {
   "display_name": "Python 3 (ipykernel)",
   "language": "python",
   "name": "python3"
  },
  "language_info": {
   "codemirror_mode": {
    "name": "ipython",
    "version": 3
   },
   "file_extension": ".py",
   "mimetype": "text/x-python",
   "name": "python",
   "nbconvert_exporter": "python",
   "pygments_lexer": "ipython3",
   "version": "3.11.2"
  }
 },
 "nbformat": 4,
 "nbformat_minor": 5
}
