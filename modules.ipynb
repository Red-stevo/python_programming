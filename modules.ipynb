{
 "cells": [
  {
   "cell_type": "code",
   "execution_count": 10,
   "id": "c7a454f9-eeee-422c-9d5b-0b1470ec56fd",
   "metadata": {},
   "outputs": [
    {
     "name": "stdout",
     "output_type": "stream",
     "text": [
      "total 0\n",
      "drwxr-xr-x 1 redsteve redsteve  814 Aug 22 16:19 .\n",
      "drwxrwxr-x 1 redsteve redsteve 1640 Aug 22 16:19 ..\n",
      "drwxr-xr-x 1 redsteve redsteve   26 Jun  6 21:03 backdoors_python\n",
      "drwxr-xr-x 1 redsteve redsteve   62 Aug 22 14:59 BlackHat_Hacking\n",
      "drwxr-xr-x 1 redsteve redsteve   26 Jul 26 12:48 ChatApplication\n",
      "drwxr-xr-x 1 redsteve redsteve  814 Jul 29 14:54 CodingChallenges\n",
      "drwxr-xr-x 1 redsteve redsteve  334 Aug 12 09:30 C_programming\n",
      "drwxr-xr-x 1 redsteve redsteve   96 Aug 16 21:23 DeepLearning\n",
      "drwxr-xr-x 1 redsteve redsteve  252 Jul 22 06:27 demoBlogWebApp\n",
      "drwxr-xr-x 1 redsteve redsteve   44 Aug  6 06:50 Files\n",
      "drwxr-xr-x 1 redsteve redsteve   44 Jul 21 08:37 input-output\n",
      "drwxr-xr-x 1 redsteve redsteve  698 Jun 19 10:30 internet_application_programing\n",
      "drwxr-xr-x 1 redsteve redsteve    0 Aug 22 16:19 .ipynb_checkpoints\n",
      "drwxr-xr-x 1 redsteve redsteve   66 Jun 13 18:20 JavaScript\n",
      "drwxr-xr-x 1 redsteve redsteve  124 Jul 30 06:06 JavaSockets\n",
      "drwxr-xr-x 1 redsteve redsteve  172 Jul 27 06:44 javaWebSockets\n",
      "drwxr-xr-x 1 redsteve redsteve 1120 Aug 20 21:08 leet-code-solutions\n",
      "drwxr-xr-x 1 redsteve redsteve  128 Jul  6 07:20 onlineShop\n",
      "drwxr-xr-x 1 redsteve redsteve  124 May 18 21:44 PasswordManager\n",
      "drwxr-xr-x 1 redsteve redsteve   44 Jul 22 14:33 pipes\n",
      "drwxr-xr-x 1 redsteve redsteve  214 Aug 22 16:26 python_programming\n",
      "drwxr-xr-x 1 redsteve redsteve  108 Jul 22 13:25 question38\n",
      "drwxr-xr-x 1 redsteve redsteve   70 Jul  2 20:10 react-learn-routing\n",
      "drwxr-xr-x 1 redsteve redsteve  200 Aug  5 06:45 RestoMenu\n",
      "drwxr-xr-x 1 redsteve redsteve  172 May 23 17:45 Student-LearningAssitant\n",
      "drwxr-xr-x 1 redsteve redsteve  330 Jun  7 09:31 study_buddy_react\n",
      "drwxr-xr-x 1 redsteve redsteve  222 Jul 26 10:39 System-programming\n",
      "drwxr-xr-x 1 redsteve redsteve   36 Aug 19 14:35 Theory_Of_Computation\n",
      "drwxr-xr-x 1 redsteve redsteve   54 May 29 10:38 Theory-of-computing\n",
      "\n"
     ]
    }
   ],
   "source": [
    "import subprocess as sp\n",
    "\n",
    "\n",
    "result = sp.run(['ls','/home/redsteve/repos', '-a', '-l'], capture_output=True, text=True)\n",
    "\n",
    "print(result.stdout)"
   ]
  },
  {
   "cell_type": "code",
   "execution_count": null,
   "id": "7719c3ab-015a-46b5-8d94-5e7b909dfe26",
   "metadata": {},
   "outputs": [],
   "source": []
  }
 ],
 "metadata": {
  "kernelspec": {
   "display_name": "Python 3 (ipykernel)",
   "language": "python",
   "name": "python3"
  },
  "language_info": {
   "codemirror_mode": {
    "name": "ipython",
    "version": 3
   },
   "file_extension": ".py",
   "mimetype": "text/x-python",
   "name": "python",
   "nbconvert_exporter": "python",
   "pygments_lexer": "ipython3",
   "version": "3.11.2"
  }
 },
 "nbformat": 4,
 "nbformat_minor": 5
}
