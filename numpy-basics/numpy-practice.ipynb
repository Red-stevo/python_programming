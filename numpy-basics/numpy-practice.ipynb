{
 "cells": [
  {
   "cell_type": "code",
   "execution_count": 5,
   "id": "00ee476f-ad0a-4e25-ae2d-b64b8eb2840e",
   "metadata": {},
   "outputs": [
    {
     "data": {
      "text/plain": [
       "numpy.ndarray"
      ]
     },
     "execution_count": 5,
     "metadata": {},
     "output_type": "execute_result"
    }
   ],
   "source": [
    "import numpy as np\n",
    "\n",
    "a = np.arange(20).reshape(4, 5) # this will create an ndarray with 20 integers\n",
    "\n",
    "a.ndim #displays the dimesion(axes) of the ndarray generated.\n",
    "type(a)"
   ]
  },
  {
   "cell_type": "code",
   "execution_count": 6,
   "id": "50ecbd1b-ba12-4650-a12b-2c285e8bdc69",
   "metadata": {},
   "outputs": [
    {
     "data": {
      "text/plain": [
       "(4, 5)"
      ]
     },
     "execution_count": 6,
     "metadata": {},
     "output_type": "execute_result"
    }
   ],
   "source": [
    "a.shape #size of the arrays in each dimensions"
   ]
  },
  {
   "cell_type": "code",
   "execution_count": 11,
   "id": "521c7edd-7922-44eb-8008-afda9f657c03",
   "metadata": {},
   "outputs": [
    {
     "data": {
      "text/plain": [
       "20"
      ]
     },
     "execution_count": 11,
     "metadata": {},
     "output_type": "execute_result"
    }
   ],
   "source": [
    "a.size #number of element in the array"
   ]
  },
  {
   "cell_type": "code",
   "execution_count": 12,
   "id": "9e637373-f3a5-4b4f-b50d-2d9f3b7bcf1a",
   "metadata": {},
   "outputs": [
    {
     "data": {
      "text/plain": [
       "dtype('int64')"
      ]
     },
     "execution_count": 12,
     "metadata": {},
     "output_type": "execute_result"
    }
   ],
   "source": [
    "a.dtype #the data type of the element in the ndarray"
   ]
  },
  {
   "cell_type": "code",
   "execution_count": 13,
   "id": "894c33e3-35c7-44bb-bfa6-d60fdf048202",
   "metadata": {},
   "outputs": [
    {
     "data": {
      "text/plain": [
       "8"
      ]
     },
     "execution_count": 13,
     "metadata": {},
     "output_type": "execute_result"
    }
   ],
   "source": [
    "a.itemsize #size of each element in the ndarray"
   ]
  },
  {
   "cell_type": "code",
   "execution_count": 7,
   "id": "cbca691a-5393-45ee-9683-215444e7c541",
   "metadata": {},
   "outputs": [
    {
     "data": {
      "text/plain": [
       "<memory at 0x7f78e769e9b0>"
      ]
     },
     "execution_count": 7,
     "metadata": {},
     "output_type": "execute_result"
    }
   ],
   "source": [
    "a.data #buffer containing the actual elements."
   ]
  },
  {
   "cell_type": "code",
   "execution_count": 9,
   "id": "8515b08c-6a92-4035-9ddd-822565a0340f",
   "metadata": {},
   "outputs": [
    {
     "data": {
      "text/plain": [
       "numpy.ndarray"
      ]
     },
     "execution_count": 9,
     "metadata": {},
     "output_type": "execute_result"
    }
   ],
   "source": [
    "b = np.array([2,3,4,5,3,12,65,32])\n",
    "type(b)"
   ]
  },
  {
   "cell_type": "code",
   "execution_count": null,
   "id": "83625507-fe2a-4bb9-a1ab-91d2fcf6901a",
   "metadata": {},
   "outputs": [],
   "source": []
  }
 ],
 "metadata": {
  "kernelspec": {
   "display_name": "Python 3 (ipykernel)",
   "language": "python",
   "name": "python3"
  },
  "language_info": {
   "codemirror_mode": {
    "name": "ipython",
    "version": 3
   },
   "file_extension": ".py",
   "mimetype": "text/x-python",
   "name": "python",
   "nbconvert_exporter": "python",
   "pygments_lexer": "ipython3",
   "version": "3.11.2"
  }
 },
 "nbformat": 4,
 "nbformat_minor": 5
}
