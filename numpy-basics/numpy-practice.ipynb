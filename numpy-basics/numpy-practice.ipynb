{
 "cells": [
  {
   "cell_type": "code",
   "execution_count": 5,
   "id": "00ee476f-ad0a-4e25-ae2d-b64b8eb2840e",
   "metadata": {},
   "outputs": [
    {
     "data": {
      "text/plain": [
       "numpy.ndarray"
      ]
     },
     "execution_count": 5,
     "metadata": {},
     "output_type": "execute_result"
    }
   ],
   "source": [
    "import numpy as np\n",
    "\n",
    "a = np.arange(20).reshape(4, 5) # this will create an ndarray with 20 integers\n",
    "\n",
    "a.ndim #displays the dimesion(axes) of the ndarray generated.\n",
    "type(a)"
   ]
  },
  {
   "cell_type": "code",
   "execution_count": 6,
   "id": "50ecbd1b-ba12-4650-a12b-2c285e8bdc69",
   "metadata": {},
   "outputs": [
    {
     "data": {
      "text/plain": [
       "(4, 5)"
      ]
     },
     "execution_count": 6,
     "metadata": {},
     "output_type": "execute_result"
    }
   ],
   "source": [
    "a.shape #size of the arrays in each dimensions"
   ]
  },
  {
   "cell_type": "code",
   "execution_count": 11,
   "id": "521c7edd-7922-44eb-8008-afda9f657c03",
   "metadata": {},
   "outputs": [
    {
     "data": {
      "text/plain": [
       "20"
      ]
     },
     "execution_count": 11,
     "metadata": {},
     "output_type": "execute_result"
    }
   ],
   "source": [
    "a.size #number of element in the array"
   ]
  },
  {
   "cell_type": "code",
   "execution_count": 12,
   "id": "9e637373-f3a5-4b4f-b50d-2d9f3b7bcf1a",
   "metadata": {},
   "outputs": [
    {
     "data": {
      "text/plain": [
       "dtype('int64')"
      ]
     },
     "execution_count": 12,
     "metadata": {},
     "output_type": "execute_result"
    }
   ],
   "source": [
    "a.dtype #the data type of the element in the ndarray"
   ]
  },
  {
   "cell_type": "code",
   "execution_count": 13,
   "id": "894c33e3-35c7-44bb-bfa6-d60fdf048202",
   "metadata": {},
   "outputs": [
    {
     "data": {
      "text/plain": [
       "8"
      ]
     },
     "execution_count": 13,
     "metadata": {},
     "output_type": "execute_result"
    }
   ],
   "source": [
    "a.itemsize #size of each element in the ndarray"
   ]
  },
  {
   "cell_type": "code",
   "execution_count": 7,
   "id": "cbca691a-5393-45ee-9683-215444e7c541",
   "metadata": {},
   "outputs": [
    {
     "data": {
      "text/plain": [
       "<memory at 0x7f78e769e9b0>"
      ]
     },
     "execution_count": 7,
     "metadata": {},
     "output_type": "execute_result"
    }
   ],
   "source": [
    "a.data #buffer containing the actual elements."
   ]
  },
  {
   "cell_type": "code",
   "execution_count": 9,
   "id": "8515b08c-6a92-4035-9ddd-822565a0340f",
   "metadata": {},
   "outputs": [
    {
     "data": {
      "text/plain": [
       "numpy.ndarray"
      ]
     },
     "execution_count": 9,
     "metadata": {},
     "output_type": "execute_result"
    }
   ],
   "source": [
    "b = np.array([2,3,4,5,3,12,65,32])\n",
    "type(b)"
   ]
  },
  {
   "cell_type": "code",
   "execution_count": 12,
   "id": "83625507-fe2a-4bb9-a1ab-91d2fcf6901a",
   "metadata": {},
   "outputs": [
    {
     "data": {
      "text/plain": [
       "array([['1', '2', '6', '54', '65', '54'],\n",
       "       ['43', '65', '43', '32', '324', '654'],\n",
       "       ['steve', 'muish', 'mike', 'fab', 'school', '8']], dtype='<U21')"
      ]
     },
     "execution_count": 12,
     "metadata": {},
     "output_type": "execute_result"
    }
   ],
   "source": [
    "c = np.array([(1,2,6,54,65,54), (43,65,43,32,324,654), (\"steve\" , \"muish\", \"mike\", \"fab\", \"school\", 8)])\n",
    "c"
   ]
  },
  {
   "cell_type": "code",
   "execution_count": 13,
   "id": "d01853de-10c3-492c-a097-515d18e044fc",
   "metadata": {},
   "outputs": [
    {
     "data": {
      "text/plain": [
       "dtype('<U21')"
      ]
     },
     "execution_count": 13,
     "metadata": {},
     "output_type": "execute_result"
    }
   ],
   "source": [
    "c.dtype"
   ]
  },
  {
   "cell_type": "code",
   "execution_count": 22,
   "id": "f6872901-a4e8-4a81-a51d-275c02e3f3a7",
   "metadata": {},
   "outputs": [
    {
     "data": {
      "text/plain": [
       "array([[0., 0., 0., 0., 0., 0., 0., 0., 0., 0., 0., 0., 0., 0., 0.],\n",
       "       [0., 0., 0., 0., 0., 0., 0., 0., 0., 0., 0., 0., 0., 0., 0.],\n",
       "       [0., 0., 0., 0., 0., 0., 0., 0., 0., 0., 0., 0., 0., 0., 0.]])"
      ]
     },
     "execution_count": 22,
     "metadata": {},
     "output_type": "execute_result"
    }
   ],
   "source": [
    "d = np.empty((3,15))\n",
    "d"
   ]
  },
  {
   "cell_type": "code",
   "execution_count": 25,
   "id": "c2ae027d-6d35-4f4a-8a19-60cd253f38d4",
   "metadata": {},
   "outputs": [
    {
     "data": {
      "text/plain": [
       "array([[1.58218056e-316, 0.00000000e+000, 0.00000000e+000],\n",
       "       [0.00000000e+000, 0.00000000e+000, 0.00000000e+000],\n",
       "       [0.00000000e+000, 0.00000000e+000, 0.00000000e+000]])"
      ]
     },
     "execution_count": 25,
     "metadata": {},
     "output_type": "execute_result"
    }
   ],
   "source": [
    "np.empty((3,3))"
   ]
  },
  {
   "cell_type": "code",
   "execution_count": 39,
   "id": "a399f689-82b4-41a1-81a4-6e301bc7a778",
   "metadata": {},
   "outputs": [
    {
     "data": {
      "text/plain": [
       "array([1.0000000e-06, 1.5821010e+00, 3.1642010e+00, 4.7463010e+00,\n",
       "       6.3284010e+00, 7.9105010e+00, 9.4926010e+00, 1.1074701e+01,\n",
       "       1.2656801e+01, 1.4238901e+01, 1.5821001e+01, 1.7403101e+01,\n",
       "       1.8985201e+01, 2.0567301e+01])"
      ]
     },
     "execution_count": 39,
     "metadata": {},
     "output_type": "execute_result"
    }
   ],
   "source": [
    "np.arange(.000001, 21.0000001, 1.5821)"
   ]
  },
  {
   "cell_type": "code",
   "execution_count": 43,
   "id": "3f6d9e9b-6265-4867-8c26-422a7f3e64bd",
   "metadata": {},
   "outputs": [
    {
     "data": {
      "text/plain": [
       "array([0.        , 0.0952381 , 0.19047619, 0.28571429, 0.38095238,\n",
       "       0.47619048, 0.57142857, 0.66666667, 0.76190476, 0.85714286,\n",
       "       0.95238095, 1.04761905, 1.14285714, 1.23809524, 1.33333333,\n",
       "       1.42857143, 1.52380952, 1.61904762, 1.71428571, 1.80952381,\n",
       "       1.9047619 , 2.        ])"
      ]
     },
     "execution_count": 43,
     "metadata": {},
     "output_type": "execute_result"
    }
   ],
   "source": [
    "np.linspace(0,2,22) #22 numbers from 0 to 2."
   ]
  },
  {
   "cell_type": "code",
   "execution_count": null,
   "id": "bd4bfc63-3409-44bd-a82f-de6fda28c55f",
   "metadata": {},
   "outputs": [],
   "source": []
  }
 ],
 "metadata": {
  "kernelspec": {
   "display_name": "Python 3 (ipykernel)",
   "language": "python",
   "name": "python3"
  },
  "language_info": {
   "codemirror_mode": {
    "name": "ipython",
    "version": 3
   },
   "file_extension": ".py",
   "mimetype": "text/x-python",
   "name": "python",
   "nbconvert_exporter": "python",
   "pygments_lexer": "ipython3",
   "version": "3.11.2"
  }
 },
 "nbformat": 4,
 "nbformat_minor": 5
}
